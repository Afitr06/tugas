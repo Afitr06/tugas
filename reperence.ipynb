{
  "nbformat": 4,
  "nbformat_minor": 0,
  "metadata": {
    "colab": {
      "provenance": [],
      "authorship_tag": "ABX9TyM/HxFORxIyNvDU90rzgg0G",
      "include_colab_link": true
    },
    "kernelspec": {
      "name": "python3",
      "display_name": "Python 3"
    },
    "language_info": {
      "name": "python"
    }
  },
  "cells": [
    {
      "cell_type": "markdown",
      "metadata": {
        "id": "view-in-github",
        "colab_type": "text"
      },
      "source": [
        "<a href=\"https://colab.research.google.com/github/Afitr06/tugas/blob/main/reperence.ipynb\" target=\"_parent\"><img src=\"https://colab.research.google.com/assets/colab-badge.svg\" alt=\"Open In Colab\"/></a>"
      ]
    },
    {
      "cell_type": "code",
      "execution_count": null,
      "metadata": {
        "id": "oX6D26qc4nSr"
      },
      "outputs": [],
      "source": [
        "#Muhamad Fitroh SOdikin\n",
        "#2006164\n",
        "#kelas A\n",
        "\n",
        "import cv2\n",
        "import numpy as np\n",
        "\n",
        "img = cv2.imread(\"cat.jpg\")\n",
        "gray = cv2.cvtColor(img, cv2.COLOR_BGR2GRAY)\n",
        "\n",
        "cv2.imshow(\"Gambar Original\", img)\n",
        "cv2.imshow(\"Gambar GrayScale\", gray)\n",
        "\n",
        "cv2.waitKey(0)\n",
        "cv2.destroyAllWindows()"
      ]
    },
    {
      "cell_type": "code",
      "source": [
        "#Muhamad Fitroh SOdikin\n",
        "#2006164\n",
        "#kelas A\n",
        "\n",
        "\n",
        "import numpy\n",
        "import matplotlib.pyplot as plt\n",
        "from copy import deepcopy\n",
        "from PIL import Image\n",
        "\n",
        "def getGrayColor (rgb) :\n",
        "    return rgb[0]\n",
        "def setGrayColor(color):\n",
        "    return [color, color, color]\n",
        "\n",
        "img = Image.open('cat.jpg')\n",
        "img = numpy.asarray(img)\n",
        "\n",
        "ct = deepcopy(img)\n",
        "\n",
        "r1 = 100\n",
        "s1 = 50\n",
        "r2 = 150\n",
        "s2 = 200\n",
        "\n",
        "for i in range(len(img)):\n",
        "    for j in range(len(img[i])):\n",
        "        x = getGrayColor(img[i][j])\n",
        "        if(0 <= x and x <= r1):\n",
        "            ct [i][j] = setGrayColor(s1/r1 * x)\n",
        "        elif(r1 < x and x <= r2):\n",
        "            ct[i][j] = setGrayColor(((s2 - s1)/(r2 - r1)) * (x - r1) + s1)\n",
        "        elif (r2 < x and x <= 255):\n",
        "            ct[i][j] = setGrayColor(((255 - s2) / (255 - r2)) * (x - r2) + s2)\n",
        "\n",
        "plt.subplot(2, 2, 1)\n",
        "plt.imshow(img)\n",
        "plt.subplot(2, 2, 2)\n",
        "plt.imshow(ct)\n",
        "plt.show()"
      ],
      "metadata": {
        "id": "RdTLb4yy5-WO"
      },
      "execution_count": null,
      "outputs": []
    },
    {
      "cell_type": "code",
      "source": [
        "#Muhamad Fitroh SOdikin\n",
        "#2006164\n",
        "#kelas A\n",
        "\n",
        "\n",
        "import cv2 as cv2\n",
        "import numpy as np\n",
        "\n",
        "img = cv2.imread(\"images.jpg\")\n",
        "cv2.imshow(\"Original Image\", img)\n",
        "kernel = np.ones((5,5), np.uint8)\n",
        "erosion = cv2.erode(img, kernel, iterations = 1)\n",
        "cv2.imshow(\"erosion\", erosion)\n",
        "\n",
        "dilation = cv2.dilate(img, kernel, iterations= 1)\n",
        "cv2.imshow(\"Dilasi\", dilation)\n",
        "\n",
        "kernell = np.ones((3,3), np.uint8)\n",
        "opening = cv2.morphologyEx(img, cv2.MORPH_OPEN, kernell)\n",
        "cv2.imshow('Opening', opening)\n",
        "\n",
        "closing = cv2. morphologyEx(img, cv2.MORPH_CLOSE, kernel)\n",
        "cv2.imshow(\"Closing\", closing)\n",
        "\n",
        "gradient = cv2.morphologyEx(img, cv2.MORPH_GRADIENT, kernel)\n",
        "cv2.imshow(\"Gradient\", gradient)\n",
        "\n",
        "cv2.waitKey(0)\n",
        "cv2.destroyAllWindows()\n"
      ],
      "metadata": {
        "id": "3dTUWskC6J2G"
      },
      "execution_count": null,
      "outputs": []
    }
  ]
}